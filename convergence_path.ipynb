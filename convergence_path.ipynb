{
  "nbformat": 4,
  "nbformat_minor": 0,
  "metadata": {
    "colab": {
      "provenance": []
    },
    "kernelspec": {
      "name": "python3",
      "display_name": "Python 3"
    },
    "language_info": {
      "name": "python"
    }
  },
  "cells": [
    {
      "cell_type": "markdown",
      "source": [
        "Our code below is based on https://machinelearningmastery.com/gradient-descent-optimization-with-amsgrad-from-scratch/"
      ],
      "metadata": {
        "id": "mMUfTbkTrztT"
      }
    },
    {
      "cell_type": "code",
      "execution_count": 1,
      "metadata": {
        "id": "vkdY1QFVpvqu"
      },
      "outputs": [],
      "source": [
        "import math\n",
        "import numpy as np\n",
        "from numpy import asarray\n",
        "from numpy import arange\n",
        "from numpy.random import rand\n",
        "from numpy.random import seed\n",
        "from numpy import meshgrid\n",
        "from matplotlib import pyplot\n",
        "from mpl_toolkits.mplot3d import Axes3D"
      ]
    },
    {
      "cell_type": "code",
      "source": [
        "# objective function\n",
        "def objective(x, y):\n",
        "\treturn x**2.0 + y**2.0\n",
        "\n",
        "# derivative of objective function\n",
        "def derivative(x, y):\n",
        "\treturn asarray([x * 2.0, y * 2.0])"
      ],
      "metadata": {
        "id": "fZpkoz5nskvE"
      },
      "execution_count": null,
      "outputs": []
    },
    {
      "cell_type": "code",
      "source": [
        "# Rosenbrock function\n",
        "def objective(x, y):\n",
        "    return (1 - x)**2 + 100 * (y - x**2)**2\n",
        "\n",
        "# Derivative of Rosenbrock function\n",
        "def derivative(x, y):\n",
        "    dx = -2 * (1 - x) - 400 * x * (y - x**2)\n",
        "    dy = 200 * (y - x**2)\n",
        "    return np.array([dx, dy])"
      ],
      "metadata": {
        "id": "weH_lIsTskMd"
      },
      "execution_count": 2,
      "outputs": []
    },
    {
      "cell_type": "code",
      "source": [
        "# Easom function\n",
        "def objective(x, y):\n",
        "    return -np.cos(x) * np.cos(y) * np.exp(-(x - np.pi)**2 - (y - np.pi)**2)\n",
        "\n",
        "# Derivative of Easom function (not required for many optimizers)\n",
        "def derivative(x, y):\n",
        "    dx = np.sin(x) * np.cos(y) * np.exp(-(x - np.pi)**2 - (y - np.pi)**2) + 2 * (x - np.pi) * np.cos(x) * np.cos(y) * np.exp(-(x - np.pi)**2 - (y - np.pi)**2)\n",
        "    dy = np.cos(x) * np.sin(y) * np.exp(-(x - np.pi)**2 - (y - np.pi)**2) + 2 * (y - np.pi) * np.cos(x) * np.cos(y) * np.exp(-(x - np.pi)**2 - (y - np.pi)**2)\n",
        "    return np.array([dx, dy])"
      ],
      "metadata": {
        "id": "p_paXSgsuq9z"
      },
      "execution_count": 14,
      "outputs": []
    },
    {
      "cell_type": "code",
      "source": [
        "# Himmelblau's function\n",
        "def objective(x, y):\n",
        "    return (x**2 + y - 11)**2 + (x + y**2 - 7)**2\n",
        "\n",
        "# Derivative of Himmelblau's function\n",
        "def derivative(x, y):\n",
        "    dx = 4 * x * (x**2 + y - 11) + 2 * (x + y**2 - 7)\n",
        "    dy = 2 * (x**2 + y - 11) + 4 * y * (x + y**2 - 7)\n",
        "    return np.array([dx, dy])"
      ],
      "metadata": {
        "id": "vQyMoN9WvYwi"
      },
      "execution_count": 9,
      "outputs": []
    },
    {
      "cell_type": "code",
      "source": [
        "# gradient descent algorithm with amsgrad\n",
        "def amsgrad(objective, derivative, bounds, n_iter, alpha, beta1, beta2):\n",
        "    solutions = list()\n",
        "    # generate an initial point\n",
        "    x = np.array([2.1, 2.1])\n",
        "    # x = np.array([1.0, 1.0])\n",
        "    # = bounds[:, 0] + rand(len(bounds)) * (bounds[:, 1] - bounds[:, 0])\n",
        "    solutions.append(x.copy())\n",
        "    # initialize moment vectors\n",
        "    m = [0.0 for _ in range(bounds.shape[0])]\n",
        "    v = [0.0 for _ in range(bounds.shape[0])]\n",
        "    vhat = [0.0 for _ in range(bounds.shape[0])]\n",
        "    # run the gradient descent\n",
        "    for t in range(n_iter):\n",
        "      # calculate gradient g(t)\n",
        "      g = derivative(x[0], x[1])\n",
        "      # update variables one at a time\n",
        "      for i in range(x.shape[0]):\n",
        "        # m(t) = beta1(t) * m(t-1) + (1 - beta1(t)) * g(t)\n",
        "        m[i] = beta1**(t+1) * m[i] + (1.0 - beta1**(t+1)) * g[i]\n",
        "        # v(t) = beta2 * v(t-1) + (1 - beta2) * g(t)^2\n",
        "        v[i] = (beta2 * v[i]) + (1.0 - beta2) * g[i]**2\n",
        "        # vhat(t) = max(vhat(t-1), v(t))\n",
        "        vhat[i] = max(vhat[i], v[i])\n",
        "        # x(t) = x(t-1) - alpha(t) * m(t) / sqrt(vhat(t)))\n",
        "        x[i] = x[i] - alpha * m[i] / (math.sqrt(vhat[i]) + 1e-8)\n",
        "      # evaluate candidate point\n",
        "      score = objective(x[0], x[1])\n",
        "      # keep track of all solutions\n",
        "      solutions.append(x.copy())\n",
        "      # report progress\n",
        "      # print('>%d f(%s) = %.5f' % (t, x, score))\n",
        "    return solutions\n",
        "\n",
        "def ouradam(objective, derivative, bounds, n_iter, alpha, beta1, beta2, lam1, lam2):\n",
        "    solutions = []\n",
        "    # Generate an initial point\n",
        "    # For Rosenbrock\n",
        "    # x = np.array([-1.5, -0.0])\n",
        "    # For Easom\n",
        "    x = np.array([2.1, 2.1])\n",
        "    # For Himmelblau\n",
        "    # x = np.array([1.0, -1.0])\n",
        "    solutions.append(x.copy())\n",
        "\n",
        "    # Initialize moment vectors\n",
        "    m = np.zeros_like(x)\n",
        "    v = np.zeros_like(x)\n",
        "    vhat = np.zeros_like(x)\n",
        "    lam_init1, lam_init2 = lam1, lam2\n",
        "    p = 0\n",
        "    # Run the gradient descent\n",
        "    for t in range(n_iter):\n",
        "        # Calculate gradient g(t)\n",
        "        g = derivative(x[0], x[1])\n",
        "        # print(np.linalg.norm(g, ord=np.inf))\n",
        "        p += 1\n",
        "        # if p == 300:\n",
        "        #   p = 0\n",
        "        # beta1 = beta1 / np.sqrt(p + 1)\n",
        "        # beta2 = beta2 / np.sqrt(p + 1)\n",
        "        # Calculate beta values\n",
        "        beta_t = [beta1 * np.exp(-lam2 * (np.linalg.norm(g, ord=np.inf))), beta2 * np.exp(-lam2 * (np.linalg.norm(g, ord=np.inf)))]\n",
        "        #beta_t = [beta1, beta2]\n",
        "\n",
        "        # Update variables one at a time\n",
        "        for i in range(x.shape[0]):\n",
        "            # m(t) = beta1(t) * m(t-1) + (1 - beta1(t)) * g(t)\n",
        "            m[i] = beta_t[0] **(t+1) * m[i] + (1.0 - beta_t[0]**(t+1)) * g[i]\n",
        "            # v(t) = beta2 * v(t-1) + (1 - beta2) * g(t)^2\n",
        "            v[i] = (beta_t[1] * v[i]) + (1.0 - beta_t[1]) * g[i]**2\n",
        "            # vhat(t) = max(vhat(t-1), v(t))\n",
        "            vhat[i] = max(vhat[i], v[i])\n",
        "            # x(t) = x(t-1) - alpha(t) * m(t) / sqrt(vhat(t)))\n",
        "            x[i] = x[i] - alpha * m[i] / (np.sqrt(vhat[i]) + 1e-8)\n",
        "\n",
        "        # Evaluate candidate point\n",
        "        score = objective(x[0], x[1])\n",
        "\n",
        "        # Keep track of all solutions\n",
        "        solutions.append(x.copy())\n",
        "\n",
        "        # Report progress\n",
        "        # print('>%d f(%s) = %.5f' % (t, x, score))\n",
        "\n",
        "    return solutions\n",
        "\n",
        "\n",
        "def adam(objective, derivative, bounds, n_iter, alpha, beta1, beta2):\n",
        "    solutions = []\n",
        "    # Generate an initial point\n",
        "    # x = np.array([-1.5, -0.0])\n",
        "    x = np.array([2.1, 2.1])\n",
        "    # x = np.array([1.0, -1.0])\n",
        "\n",
        "    # Initialize moment vectors\n",
        "    m = np.zeros_like(x)\n",
        "    v = np.zeros_like(x)\n",
        "    solutions.append(x.copy())\n",
        "\n",
        "    # Run the gradient descent\n",
        "    for t in range(n_iter):\n",
        "        # Calculate gradient g(t)\n",
        "        g = derivative(x[0], x[1])\n",
        "\n",
        "        # Update moment vectors\n",
        "        m = beta1 * m + (1 - beta1) * g\n",
        "        v = beta2 * v + (1 - beta2) * g**2\n",
        "\n",
        "        # Bias correction\n",
        "        m_hat = m / (1 - beta1**(t+1))\n",
        "        v_hat = v / (1 - beta2**(t+1))\n",
        "\n",
        "        # Update parameters\n",
        "        x -= alpha * m_hat / (np.sqrt(v_hat) + 1e-8)\n",
        "\n",
        "        # Evaluate candidate point\n",
        "        score = objective(x[0], x[1])\n",
        "\n",
        "        # Keep track of all solutions\n",
        "        solutions.append(x.copy())\n",
        "\n",
        "        # Report progress\n",
        "        # print('>%d f(%s) = %.5f' % (t, x, score))\n",
        "\n",
        "    return solutions\n",
        "\n"
      ],
      "metadata": {
        "id": "eDVL0SS7qBqL"
      },
      "execution_count": 15,
      "outputs": []
    },
    {
      "cell_type": "code",
      "source": [
        "# seed the pseudo random number generator\n",
        "seed(413)\n",
        "# define range for input\n",
        "# For rosenbrock\n",
        "# bounds = asarray([[-2.0, 2.0], [-1.0, 3.0]])\n",
        "# For easom\n",
        "bounds = asarray([[0, 6], [0, 6]])\n",
        "# For Himmelblau\n",
        "# bounds = asarray([[-5.0, 5.0], [-5.0, 5.0]])\n",
        "# define the total iterations\n",
        "n_iter = 20\n",
        "# steps size\n",
        "alpha = 0.1\n",
        "# factor for average gradient\n",
        "beta1 = 0.9\n",
        "# factor for average squared gradient\n",
        "beta2 = 0.99\n",
        "\n",
        "lam1 = 0.2\n",
        "lam2 = 0.2\n",
        "# perform the gradient descent search with amsgrad\n",
        "solutions_amsgrad = amsgrad(objective, derivative, bounds, n_iter, alpha, beta1, beta2)\n",
        "solutions_ouradam = ouradam(objective, derivative, bounds, n_iter, alpha, beta1, beta2, lam1, lam2)\n",
        "solutions_adam = adam(objective, derivative, bounds, n_iter, alpha, beta1, beta2)\n",
        "solutions_nadam = nadam(objective, derivative, bounds, n_iter, alpha, beta1, beta2)\n",
        "\n",
        "# sample input range uniformly at 0.1 increments\n",
        "xaxis = arange(bounds[0,0], bounds[0,1], 0.1)\n",
        "yaxis = arange(bounds[1,0], bounds[1,1], 0.1)\n",
        "# create a mesh from the axis\n",
        "x, y = meshgrid(xaxis, yaxis)\n",
        "# compute targets\n",
        "results = objective(x, y)\n",
        "# create a filled contour plot with 50 levels and jet color scheme\n",
        "contour = pyplot.contourf(x, y, results, levels=75, cmap='plasma')\n",
        "pyplot.colorbar(contour)\n",
        "\n",
        "# plot the sample as black circles\n",
        "solutions_amsgrad = asarray(solutions_amsgrad)\n",
        "pyplot.plot(solutions_amsgrad[:, 0], solutions_amsgrad[:, 1], '.-', color='palegreen', label='AMSGrad')\n",
        "pyplot.plot(solutions_amsgrad[0, 0], solutions_amsgrad[0, 1], '.-', color='red')\n",
        "print(solutions_amsgrad[0, 0], solutions_amsgrad[0, 1])\n",
        "\n",
        "# Plot Adam results\n",
        "# solutions_adam = asarray(solutions_adam)\n",
        "# pyplot.plot(solutions_adam[:, 0], solutions_adam[:, 1], '.-', color='skyblue', label='Adam')\n",
        "# pyplot.plot(solutions_adam[0, 0], solutions_adam[0, 1], '.-', color='red')\n",
        "# print(solutions_adam[0, 0], solutions_adam[0, 1])\n",
        "\n",
        "# solutions_nadam = asarray(solutions_nadam)\n",
        "# pyplot.plot(solutions_nadam[:, 0], solutions_nadam[:, 1], '.-', color='skyblue')\n",
        "# pyplot.plot(solutions_nadam[0, 0], solutions_nadam[0, 1], '.-', color='red')\n",
        "\n",
        "# Plot Our algorithm results\n",
        "solutions_ouradam = asarray(solutions_ouradam)\n",
        "pyplot.plot(solutions_ouradam[:, 0], solutions_ouradam[:, 1], '.-', color='peachpuff', label='Our algorithm')\n",
        "pyplot.plot(solutions_ouradam[0, 0], solutions_ouradam[0, 1], '.-', color='red')\n",
        "print(solutions_ouradam[0, 0], solutions_ouradam[0, 1])\n",
        "\n",
        "# True minimum of Rosenbrock\n",
        "# pyplot.plot(1, 1, '.-', color='g')\n",
        "# True minimum of Himmelblau\n",
        "# pyplot.plot(3, 2, '.-', color='g')\n",
        "# True minimum of Easom\n",
        "pyplot.plot(np.pi, np.pi, '.-', color='g')\n",
        "pyplot.legend()\n",
        "pyplot.xlabel(r'$x$')\n",
        "pyplot.ylabel(r'$y$')\n",
        "pyplot.colorbar\n",
        "pyplot.tick_params(axis='both', direction='in')\n",
        "# Set the DPI of the figure to 200\n",
        "pyplot.savefig('contour_plot_easom2.png', dpi=200)\n",
        "# pyplot.title('Convergence path on Rosenbrock\\'s function')\n",
        "\n",
        "# show the plot\n",
        "pyplot.show()"
      ],
      "metadata": {
        "colab": {
          "base_uri": "https://localhost:8080/",
          "height": 482
        },
        "id": "1lVKMs_zp-kE",
        "outputId": "fb3a7545-aaa4-4207-c1bc-c3fc2a8d9de9"
      },
      "execution_count": 21,
      "outputs": [
        {
          "output_type": "stream",
          "name": "stdout",
          "text": [
            "2.1 2.1\n",
            "2.1 2.1\n"
          ]
        },
        {
          "output_type": "display_data",
          "data": {
            "text/plain": [
              "<Figure size 640x480 with 2 Axes>"
            ],
            "image/png": "[encoded data removed]"
          },
          "metadata": {}
        }
      ]
    },
    {
      "cell_type": "code",
      "source": [],
      "metadata": {
        "id": "WVusGoVQy2tQ"
      },
      "execution_count": null,
      "outputs": []
    }
  ]
}